{
 "cells": [
  {
   "cell_type": "code",
   "execution_count": 13,
   "metadata": {},
   "outputs": [],
   "source": [
    "import os\n",
    "import random\n",
    "import shutil\n"
   ]
  },
  {
   "cell_type": "code",
   "execution_count": 14,
   "metadata": {},
   "outputs": [],
   "source": [
    "def shuffle_and_split_images_with_text_files(image_folder_path, text_folder_path, train_ratio):\n",
    "    image_list = os.listdir(image_folder_path)\n",
    "    random.shuffle(image_list)\n",
    "\n",
    "    os.makedirs('data/train/images', exist_ok=True)\n",
    "    os.makedirs('data/train/txt', exist_ok=True)\n",
    "    os.makedirs('data/val/images', exist_ok=True)\n",
    "    os.makedirs('data/val/txt', exist_ok=True)\n",
    "\n",
    "    train_size = int(len(image_list) * train_ratio)\n",
    "    train_images = image_list[:train_size]\n",
    "    val_images = image_list[train_size:]\n",
    "\n",
    "    for image in train_images:\n",
    "        image_path = os.path.join(image_folder_path, image)\n",
    "        shutil.copy(image_path, 'data/train/images')\n",
    "        image_name, _ = os.path.splitext(image)\n",
    "        text_file = image_name + '.txt'\n",
    "        text_file_path = os.path.join(text_folder_path, text_file)\n",
    "        if os.path.exists(text_file_path):\n",
    "            shutil.copy(text_file_path, 'data/train/txt')\n",
    "\n",
    "    for image in val_images:\n",
    "        image_path = os.path.join(image_folder_path, image)\n",
    "        shutil.copy(image_path, 'data/val/images')\n",
    "        image_name, _ = os.path.splitext(image)\n",
    "        text_file = image_name + '.txt'\n",
    "        text_file_path = os.path.join(text_folder_path, text_file)\n",
    "        if os.path.exists(text_file_path):\n",
    "            shutil.copy(text_file_path, 'data/val/txt')\n"
   ]
  },
  {
   "cell_type": "code",
   "execution_count": 15,
   "metadata": {},
   "outputs": [],
   "source": [
    "\n",
    "image_folder_path = '/workspace/data/img'  # 이미지 폴더 경로\n",
    "text_folder_path = '/workspace/data/txt'  # 텍스트 파일 폴더 경로\n",
    "train_ratio = 0.75  # train 비율\n",
    "\n",
    "shuffle_and_split_images_with_text_files(image_folder_path, text_folder_path, train_ratio)"
   ]
  }
 ],
 "metadata": {
  "kernelspec": {
   "display_name": "base",
   "language": "python",
   "name": "python3"
  },
  "language_info": {
   "codemirror_mode": {
    "name": "ipython",
    "version": 3
   },
   "file_extension": ".py",
   "mimetype": "text/x-python",
   "name": "python",
   "nbconvert_exporter": "python",
   "pygments_lexer": "ipython3",
   "version": "3.8.8"
  }
 },
 "nbformat": 4,
 "nbformat_minor": 2
}
