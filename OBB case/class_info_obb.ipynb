{
 "cells": [
  {
   "cell_type": "code",
   "execution_count": 1,
   "metadata": {},
   "outputs": [],
   "source": [
    "from glob import glob"
   ]
  },
  {
   "cell_type": "code",
   "execution_count": 2,
   "metadata": {},
   "outputs": [
    {
     "name": "stdout",
     "output_type": "stream",
     "text": [
      "train txt 개수: 644\n",
      "Class: 0, Count: 3771\n",
      "Class: 1, Count: 5633\n",
      "Class: 2, Count: 1569\n",
      "Class: 3, Count: 138\n",
      "Train bounding box 개수 : 11111\n"
     ]
    }
   ],
   "source": [
    "\n",
    "# Path to the directory containing text files\n",
    "txt_files_path = 'train_data_label_path'\n",
    "train_txt = glob(txt_files_path)\n",
    "# Initialize a dictionary to store class counts\n",
    "train_class_counts = {}\n",
    "train_total = 0\n",
    "\n",
    "# Iterate through each text file\n",
    "for txt_file in train_txt:\n",
    "    with open(txt_file, 'r') as file:\n",
    "        # Iterate through each line in the file\n",
    "        for line in file:\n",
    "            # Split the line and get the second-to-last piece of information (assuming it's space-separated)\n",
    "            line_parts = line.strip().split()\n",
    "            if len(line_parts) >= 2:\n",
    "                class_info = line_parts[-2]\n",
    "\n",
    "                # Update class counts in the dictionary\n",
    "                if class_info in train_class_counts:\n",
    "                    train_class_counts[class_info] += 1\n",
    "                else:\n",
    "                    train_class_counts[class_info] = 1\n",
    "\n",
    "sorted_train_class_counts = sorted(train_class_counts.keys())\n",
    "sorted_train_dict = {}\n",
    "for key in sorted_train_class_counts:\n",
    "    sorted_train_dict[key] = train_class_counts[key]\n",
    "\n",
    "# Print the class counts\n",
    "print(f\"train txt 개수: {len(train_txt)}\")\n",
    "for class_info, count in sorted_train_dict.items():\n",
    "    print(f\"Class: {class_info}, Count: {count}\")\n",
    "    train_total+=count\n",
    "print(f\"Train bounding box 개수 : {train_total}\")"
   ]
  },
  {
   "cell_type": "code",
   "execution_count": 3,
   "metadata": {},
   "outputs": [
    {
     "name": "stdout",
     "output_type": "stream",
     "text": [
      "val txt 개수: 161\n",
      "Class: 1, Count: 947\n",
      "Class: 2, Count: 1374\n",
      "Class: 3, Count: 398\n",
      "Class: 4, Count: 34\n",
      "val bounding box 개수 : 2753\n"
     ]
    }
   ],
   "source": [
    "\n",
    "# Path to the directory containing text files\n",
    "txt_files_path = 'validation_data_label_path'\n",
    "val_txt = glob(txt_files_path)\n",
    "# Initialize a dictionary to store class counts\n",
    "val_class_counts = {}\n",
    "val_total = 0\n",
    "\n",
    "# Iterate through each text file\n",
    "for txt_file in val_txt:\n",
    "    with open(txt_file, 'r') as file:\n",
    "        # Iterate through each line in the file\n",
    "        for line in file:\n",
    "            # Split the line and get the second-to-last piece of information (assuming it's space-separated)\n",
    "            line_parts = line.strip().split()\n",
    "            if len(line_parts) >= 2:\n",
    "                class_info = line_parts[-2]\n",
    "\n",
    "                # Update class counts in the dictionary\n",
    "                if class_info in val_class_counts:\n",
    "                    val_class_counts[class_info] += 1\n",
    "                else:\n",
    "                    val_class_counts[class_info] = 1\n",
    "sorted_val_class_counts = sorted(val_class_counts.keys())\n",
    "sorted_val_dict = {}\n",
    "for key in sorted_val_class_counts:\n",
    "    sorted_val_dict[key] = val_class_counts[key]\n",
    "\n",
    "# Print the class counts\n",
    "print(f\"val txt 개수: {len(val_txt)}\")\n",
    "for class_info, count in sorted_val_dict.items():\n",
    "    print(f\"Class: {class_info}, Count: {count}\")\n",
    "    val_total+=count\n",
    "print(f\"val bounding box 개수 : {val_total}\")"
   ]
  }
 ],
 "metadata": {
  "kernelspec": {
   "display_name": "yolov5",
   "language": "python",
   "name": "python3"
  },
  "language_info": {
   "codemirror_mode": {
    "name": "ipython",
    "version": 3
   },
   "file_extension": ".py",
   "mimetype": "text/x-python",
   "name": "python",
   "nbconvert_exporter": "python",
   "pygments_lexer": "ipython3",
   "version": "3.8.8"
  }
 },
 "nbformat": 4,
 "nbformat_minor": 2
}
