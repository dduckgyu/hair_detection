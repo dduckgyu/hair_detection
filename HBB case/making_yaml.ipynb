{
 "cells": [
  {
   "cell_type": "markdown",
   "metadata": {},
   "source": [
    "## Dataset"
   ]
  },
  {
   "cell_type": "code",
   "execution_count": 1,
   "metadata": {},
   "outputs": [
    {
     "name": "stdout",
     "output_type": "stream",
     "text": [
      "type3: 1174\n",
      "type1: 2854\n",
      "type2: 4264\n",
      "type4: 107\n"
     ]
    }
   ],
   "source": [
    "import os\n",
    "from xml.etree import ElementTree\n",
    "from glob import glob\n",
    "\n",
    "xml_list = glob('/home/hyungyu/Experiments/yolov5/yolov5_v2_dataset2/train/labels_xml/*.xml')\n",
    "\n",
    "name_counts = {}\n",
    "\n",
    "for xml_file in xml_list:\n",
    "    tree = ElementTree.parse(xml_file) # xml parsing\n",
    "    root = tree.getroot()\n",
    "\n",
    "    for obj in root.findall('object'):\n",
    "        \n",
    "        name = obj.find('name').text\n",
    "        \n",
    "        if name in name_counts: # type 종류 별로 개수 증가\n",
    "            name_counts[name] += 1\n",
    "        else:\n",
    "            name_counts[name] = 1\n",
    "\n",
    "for name, count in name_counts.items(): # type별 개수\n",
    "    print(f'{name}: {count}')\n"
   ]
  },
  {
   "cell_type": "code",
   "execution_count": 1,
   "metadata": {},
   "outputs": [
    {
     "data": {
      "text/plain": [
       "8399"
      ]
     },
     "execution_count": 1,
     "metadata": {},
     "output_type": "execute_result"
    }
   ],
   "source": [
    "2854+4264+1174+107"
   ]
  },
  {
   "cell_type": "code",
   "execution_count": 2,
   "metadata": {},
   "outputs": [
    {
     "name": "stdout",
     "output_type": "stream",
     "text": [
      "type2: 1369\n",
      "type1: 917\n",
      "type3: 395\n",
      "type4: 31\n"
     ]
    }
   ],
   "source": [
    "import os\n",
    "from xml.etree import ElementTree\n",
    "from glob import glob\n",
    "\n",
    "xml_list = glob('/home/hyungyu/Experiments/yolov5/yolov5_v2_dataset2/val/labels_xml/*.xml')\n",
    "\n",
    "name_counts = {}\n",
    "\n",
    "for xml_file in xml_list:\n",
    "    tree = ElementTree.parse(xml_file)\n",
    "    root = tree.getroot()\n",
    "\n",
    "    for obj in root.findall('object'):\n",
    "        name = obj.find('name').text\n",
    "        \n",
    "        if name in name_counts:\n",
    "            name_counts[name] += 1\n",
    "        else:\n",
    "            name_counts[name] = 1\n",
    "\n",
    "for name, count in name_counts.items():\n",
    "    print(f'{name}: {count}')\n"
   ]
  },
  {
   "cell_type": "code",
   "execution_count": 3,
   "metadata": {},
   "outputs": [
    {
     "data": {
      "text/plain": [
       "11111"
      ]
     },
     "execution_count": 3,
     "metadata": {},
     "output_type": "execute_result"
    }
   ],
   "source": [
    "2712+ 8399"
   ]
  },
  {
   "cell_type": "code",
   "execution_count": 8,
   "metadata": {},
   "outputs": [
    {
     "name": "stdout",
     "output_type": "stream",
     "text": [
      "Type1 : 3771\n",
      "Type2 : 5633\n",
      "Type3 : 1569\n",
      "Type4 : 138\n",
      "All : 11111\n"
     ]
    }
   ],
   "source": [
    "print(f'Type1 : {2854+917}')\n",
    "print(f'Type2 : {4264+1369}')\n",
    "print(f'Type3 : {1174+395}')\n",
    "print(f'Type4 : {107+31}')\n",
    "print(f'All : {3771+5633+1569+138}')"
   ]
  },
  {
   "cell_type": "code",
   "execution_count": 3,
   "metadata": {},
   "outputs": [
    {
     "name": "stdout",
     "output_type": "stream",
     "text": [
      "train_img_counting :  483\n",
      "============================================\n",
      "============================================\n",
      "val_img_counting :  161\n",
      "============================================\n",
      "============================================\n",
      "Proportion [Train] :  0.75\n",
      "Proportion [Val] :  0.25\n"
     ]
    }
   ],
   "source": [
    "from glob import glob\n",
    "\n",
    "train_img = glob('/home/hyungyu/Experiments/yolov5/yolov5_v2_dataset2/train/images/*.jpg')\n",
    "# train_xml = glob('/home/hyungyu/Experiments/yolov5/yolov5_v2_dataset/train/labels_xml/*.xml')\n",
    "\n",
    "val_img = glob('/home/hyungyu/Experiments/yolov5/yolov5_v2_dataset2/val/images/*.jpg')\n",
    "# val_xml = glob('/home/hyungyu/Experiments/yolov5/yolov5_v2_dataset/val/labels_xml/*.xml')\n",
    "\n",
    "print('train_img_counting : ', len(train_img))\n",
    "# print('train_xml_counting : ', len(train_xml))\n",
    "print('============================================')\n",
    "print('============================================')\n",
    "print('val_img_counting : ', len(val_img))\n",
    "# print('val_xml_counting : ', len(val_xml))\n",
    "print('============================================')\n",
    "print('============================================')\n",
    "print('Proportion [Train] : ', len(train_img)/(len(train_img)+len(val_img)))\n",
    "print('Proportion [Val] : ', len(val_img)/(len(train_img)+len(val_img)))"
   ]
  },
  {
   "cell_type": "markdown",
   "metadata": {},
   "source": [
    "## txt file"
   ]
  },
  {
   "cell_type": "code",
   "execution_count": 4,
   "metadata": {},
   "outputs": [],
   "source": [
    "with open('/home/hyungyu/Experiments/yolov5/final2_exp/train.txt', 'w') as f:\n",
    "  f.write('\\n'.join(train_img)+'\\n')\n",
    "\n",
    "with open('/home/hyungyu/Experiments/yolov5/final2_exp/val.txt', 'w') as f:\n",
    "  f.write('\\n'.join(val_img)+'\\n')"
   ]
  },
  {
   "cell_type": "markdown",
   "metadata": {},
   "source": [
    "## Yaml file"
   ]
  },
  {
   "cell_type": "code",
   "execution_count": 3,
   "metadata": {},
   "outputs": [],
   "source": [
    "import yaml\n",
    "import os\n",
    "\n",
    "root_dir = '/home/hyungyu/Experiments/yolov5/final2_exp'\n",
    "yaml_data = {\"names\":[0, 1, 2, 3], # hair type\n",
    "             \"nc\":4, # 클래스 수\n",
    "             \"train\":os.path.join(root_dir, \"train.txt\"), # train.txt path\n",
    "             \"val\":os.path.join(root_dir, \"val.txt\") # val.txt path\n",
    "             }\n",
    "\n",
    "with open(os.path.join(root_dir, \"data.yaml\"), \"w\") as f:\n",
    "  yaml.dump(yaml_data, f)"
   ]
  },
  {
   "cell_type": "code",
   "execution_count": null,
   "metadata": {},
   "outputs": [],
   "source": []
  }
 ],
 "metadata": {
  "kernelspec": {
   "display_name": "ultra",
   "language": "python",
   "name": "python3"
  },
  "language_info": {
   "codemirror_mode": {
    "name": "ipython",
    "version": 3
   },
   "file_extension": ".py",
   "mimetype": "text/x-python",
   "name": "python",
   "nbconvert_exporter": "python",
   "pygments_lexer": "ipython3",
   "version": "3.9.18"
  }
 },
 "nbformat": 4,
 "nbformat_minor": 2
}
