{
 "cells": [
  {
   "cell_type": "code",
   "execution_count": 1,
   "metadata": {},
   "outputs": [],
   "source": [
    "from convert_xml_2_yolo import convert_coco_to_yolo"
   ]
  },
  {
   "cell_type": "markdown",
   "metadata": {},
   "source": [
    "## v2_xml_to_txt"
   ]
  },
  {
   "cell_type": "code",
   "execution_count": 2,
   "metadata": {},
   "outputs": [],
   "source": [
    "import os\n",
    "from glob import glob\n",
    "import xmltodict\n",
    "\n",
    "class_mapping = {'type1': 0, 'type2': 1, 'type3': 2, 'type4': 3} \n",
    "\n",
    "dataset_path = '/home/hyungyu/Experiments/yolov5/yolov5_v2_dataset2/train/labels_xml'\n",
    "output_path = '/home/hyungyu/Experiments/yolov5/yolov5_v2_dataset2/train/labels'\n",
    "\n",
    "convert_coco_to_yolo(dataset_path, output_path, class_mapping)"
   ]
  },
  {
   "cell_type": "code",
   "execution_count": 3,
   "metadata": {},
   "outputs": [],
   "source": [
    "import os\n",
    "from glob import glob\n",
    "import xmltodict\n",
    "class_mapping = {'type1': 0, 'type2': 1, 'type3': 2, 'type4': 3} \n",
    "\n",
    "dataset_path = '/home/hyungyu/Experiments/yolov5/yolov5_v2_dataset2/val/labels_xml'\n",
    "output_path = '/home/hyungyu/Experiments/yolov5/yolov5_v2_dataset2/val/labels'\n",
    "\n",
    "convert_coco_to_yolo(dataset_path, output_path, class_mapping)"
   ]
  },
  {
   "cell_type": "code",
   "execution_count": null,
   "metadata": {},
   "outputs": [],
   "source": []
  }
 ],
 "metadata": {
  "kernelspec": {
   "display_name": "ultra",
   "language": "python",
   "name": "python3"
  },
  "language_info": {
   "codemirror_mode": {
    "name": "ipython",
    "version": 3
   },
   "file_extension": ".py",
   "mimetype": "text/x-python",
   "name": "python",
   "nbconvert_exporter": "python",
   "pygments_lexer": "ipython3",
   "version": "3.9.18"
  }
 },
 "nbformat": 4,
 "nbformat_minor": 2
}
