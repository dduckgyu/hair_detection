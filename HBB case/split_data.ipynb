{
 "cells": [
  {
   "cell_type": "code",
   "execution_count": 1,
   "metadata": {},
   "outputs": [],
   "source": [
    "import os\n",
    "import shutil\n",
    "import random"
   ]
  },
  {
   "cell_type": "code",
   "execution_count": 4,
   "metadata": {},
   "outputs": [],
   "source": [
    "import os\n",
    "import shutil\n",
    "\n",
    "def copy_files(src_dir, img_dirs, dest_dirs):\n",
    "    for img_dir, dest_dir in zip(img_dirs, dest_dirs):\n",
    "        for filename in os.listdir(img_dir):\n",
    "            if filename.endswith(\".jpg\"):\n",
    "                xml_filename = filename.replace(\".jpg\", \".xml\")\n",
    "                xml_src_path = os.path.join(src_dir, xml_filename)\n",
    "\n",
    "                if os.path.exists(xml_src_path):\n",
    "                    shutil.copy(xml_src_path, dest_dir)\n",
    "\n",
    "src_dir = '/home/hyungyu/Experiments/yolov5/Hair_Image'\n",
    "img_dirs = ['/home/hyungyu/Experiments/yolov5/yolov5_v2_dataset2/train/images', '/home/hyungyu/Experiments/yolov5/yolov5_v2_dataset2/val/images']\n",
    "dest_dirs = ['/home/hyungyu/Experiments/yolov5/yolov5_v2_dataset2/train/labels_xml', '/home/hyungyu/Experiments/yolov5/yolov5_v2_dataset2/val/labels_xml']\n",
    "\n",
    "copy_files(src_dir, img_dirs, dest_dirs)"
   ]
  },
  {
   "cell_type": "code",
   "execution_count": 5,
   "metadata": {},
   "outputs": [
    {
     "name": "stdout",
     "output_type": "stream",
     "text": [
      "Train : 483, Val : 161\n"
     ]
    }
   ],
   "source": [
    "import glob\n",
    "\n",
    "train_xml = glob.glob('/home/hyungyu/Experiments/yolov5/yolov5_v2_dataset2/train/labels_xml/*.xml')\n",
    "len(train_xml)\n",
    "\n",
    "val_xml = glob.glob('/home/hyungyu/Experiments/yolov5/yolov5_v2_dataset2/val/labels_xml/*.xml')\n",
    "len(val_xml)\n",
    "\n",
    "\n",
    "print(f'Train : {len(train_xml)}, Val : {len(val_xml)}')"
   ]
  },
  {
   "cell_type": "code",
   "execution_count": 10,
   "metadata": {},
   "outputs": [
    {
     "data": {
      "text/plain": [
       "644"
      ]
     },
     "execution_count": 10,
     "metadata": {},
     "output_type": "execute_result"
    }
   ],
   "source": [
    "483+161"
   ]
  },
  {
   "cell_type": "code",
   "execution_count": null,
   "metadata": {},
   "outputs": [],
   "source": []
  }
 ],
 "metadata": {
  "kernelspec": {
   "display_name": "yolov5",
   "language": "python",
   "name": "python3"
  },
  "language_info": {
   "codemirror_mode": {
    "name": "ipython",
    "version": 3
   },
   "file_extension": ".py",
   "mimetype": "text/x-python",
   "name": "python",
   "nbconvert_exporter": "python",
   "pygments_lexer": "ipython3",
   "version": "3.9.18"
  }
 },
 "nbformat": 4,
 "nbformat_minor": 2
}
