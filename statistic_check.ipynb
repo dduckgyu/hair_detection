{
 "cells": [
  {
   "cell_type": "code",
   "execution_count": 1,
   "metadata": {},
   "outputs": [
    {
     "name": "stdout",
     "output_type": "stream",
     "text": [
      "mAP case\n",
      "#######################################################\n",
      "HBB p-value: 0.8587\n",
      "OBB p-value: 0.0895\n",
      "#######################################################\n",
      "정규분포 따름 => Paired t-test를 진행\n",
      "#######################################################\n",
      "Paired t-test의 t-통계량: -1.6877, p-value: 0.1299\n",
      "Paired t-test 결과, HBB와 OBB 방법 사이에 통계적으로 유의미한 차이 X\n"
     ]
    }
   ],
   "source": [
    "import numpy as np\n",
    "from scipy import stats\n",
    "\n",
    "print(f'mAP case')\n",
    "print('#######################################################')\n",
    "\n",
    "results_A = np.array([0.457, 0.463, 0.460, 0.468, 0.455])\n",
    "results_B = np.array([0.475, 0.461, 0.463, 0.462, 0.478])\n",
    "\n",
    "\n",
    "# 정규성 검정\n",
    "_, p_value_A = stats.shapiro(results_A)\n",
    "_, p_value_B = stats.shapiro(results_B)\n",
    "\n",
    "print(f\"HBB p-value: {p_value_A:.4f}\")\n",
    "print(f\"OBB p-value: {p_value_B:.4f}\") \n",
    "# shapiro wilk test는 sample size에 영향을 많이 받는 상황에서, result_B는 A에 비해 상대적으로 변동 폭이 크기에 해당 결과가 나온 것으로 해석.\n",
    "\n",
    "print('#######################################################')\n",
    "\n",
    "# 유의 수준 0.05 하에서, 두 결과의 p-value가 0.05보다 큼 => 모두 정규분포를 따른다고 할 수 있음\n",
    "if p_value_A > 0.05 and p_value_B > 0.05:\n",
    "    print(\"정규분포 따름 => Paired t-test를 진행\")\n",
    "    \n",
    "    print('#######################################################')\n",
    "    \n",
    "    # Paired t-test 수행\n",
    "    t_stat, p_value = stats.ttest_ind(results_A, results_B)\n",
    "    \n",
    "    print(f\"Paired t-test의 t-통계량: {t_stat:.4f}, p-value: {p_value:.4f}\")\n",
    "    \n",
    "    if p_value < 0.05:\n",
    "        print(\"Paired t-test 결과, HBB와 OBB 방법 사이에 통계적으로 유의미한 차이 O\")\n",
    "    else:\n",
    "        print(\"Paired t-test 결과, HBB와 OBB 방법 사이에 통계적으로 유의미한 차이 X\")\n",
    "else:\n",
    "    print(\"데이터가 정규분포를 따르지 않음.\")\n",
    "    print('#######################################################')\n",
    "    \n"
   ]
  },
  {
   "cell_type": "code",
   "execution_count": 2,
   "metadata": {},
   "outputs": [
    {
     "name": "stdout",
     "output_type": "stream",
     "text": [
      "MAE case\n",
      "#######################################################\n",
      "HBB p-value: 0.7564\n",
      "OBB p-value: 0.8993\n",
      "#######################################################\n",
      "정규분포 따름 => Paired t-test를 진행\n",
      "#######################################################\n",
      "Paired t-test의 t-통계량: -2.7403, p-value: 0.0254\n",
      "Paired t-test 결과, HBB와 OBB 방법 사이에 통계적으로 유의미한 차이 O\n"
     ]
    }
   ],
   "source": [
    "import numpy as np\n",
    "from scipy import stats\n",
    "\n",
    "# MAE case\n",
    "print(f'MAE case')\n",
    "print('#######################################################')\n",
    "\n",
    "results_A = np.array([3.21, 3.32, 3.57, 2.89, 3.47])\n",
    "results_B = np.array([3.87, 4.26, 3.74, 4.00, 3.30])\n",
    "\n",
    "# results_A = np.array([1.50, 1.61 , 1.57, 1.55, 1.61]) # if follicle\n",
    "# results_B = np.array([2.00, 2.01, 1.68, 1.96, 1.56])\n",
    "\n",
    "# 정규성 검정\n",
    "_, p_value_A = stats.shapiro(results_A)\n",
    "_, p_value_B = stats.shapiro(results_B)\n",
    "\n",
    "print(f\"HBB p-value: {p_value_A:.4f}\")\n",
    "print(f\"OBB p-value: {p_value_B:.4f}\")\n",
    "print('#######################################################')\n",
    "\n",
    "# 유의 수준 0.05 하에서, 두 결과의 p-value가 0.05보다 큼 => 모두 정규분포를 따른다고 할 수 있음\n",
    "if p_value_A > 0.05 and p_value_B > 0.05:\n",
    "    print(\"정규분포 따름 => Paired t-test를 진행\")\n",
    "    \n",
    "    print('#######################################################')\n",
    "\n",
    "    # Paired t-test 수행\n",
    "    t_stat, p_value = stats.ttest_ind(results_A, results_B)\n",
    "    \n",
    "    print(f\"Paired t-test의 t-통계량: {t_stat:.4f}, p-value: {p_value:.4f}\")\n",
    "    \n",
    "    if p_value < 0.05:\n",
    "        print(\"Paired t-test 결과, HBB와 OBB 방법 사이에 통계적으로 유의미한 차이 O\")\n",
    "    else:\n",
    "        print(\"Paired t-test 결과, HBB와 OBB 방법 사이에 통계적으로 유의미한 차이 X\")\n",
    "else:\n",
    "    print(\"데이터가 정규분포를 따르지 않음.\")\n",
    "    print('#######################################################')\n"
   ]
  },
  {
   "cell_type": "code",
   "execution_count": null,
   "metadata": {},
   "outputs": [],
   "source": []
  }
 ],
 "metadata": {
  "kernelspec": {
   "display_name": "yolov5",
   "language": "python",
   "name": "python3"
  },
  "language_info": {
   "codemirror_mode": {
    "name": "ipython",
    "version": 3
   },
   "file_extension": ".py",
   "mimetype": "text/x-python",
   "name": "python",
   "nbconvert_exporter": "python",
   "pygments_lexer": "ipython3",
   "version": "3.8.19"
  }
 },
 "nbformat": 4,
 "nbformat_minor": 2
}
